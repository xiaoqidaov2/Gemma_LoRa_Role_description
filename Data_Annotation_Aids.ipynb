{
 "cells": [
  {
   "cell_type": "code",
   "execution_count": 1,
   "metadata": {},
   "outputs": [
    {
     "name": "stderr",
     "output_type": "stream",
     "text": [
      "2024-03-07 21:09:37.920 Python[57418:1925148] WARNING: Secure coding is not enabled for restorable state! Enable secure coding by implementing NSApplicationDelegate.applicationSupportsSecureRestorableState: and returning YES.\n",
      "2024-03-07 21:09:45.841 Python[57418:1925148] TSM AdjustCapsLockLEDForKeyTransitionHandling - _ISSetPhysicalKeyboardCapsLockLED Inhibit\n"
     ]
    },
    {
     "name": "stdout",
     "output_type": "stream",
     "text": [
      "2\n",
      "3\n",
      "4\n",
      "5\n",
      "6\n",
      "7\n",
      "8\n",
      "9\n",
      "10\n",
      "11\n"
     ]
    },
    {
     "ename": "SystemExit",
     "evalue": "0",
     "output_type": "error",
     "traceback": [
      "An exception has occurred, use %tb to see the full traceback.\n",
      "\u001b[0;31mSystemExit\u001b[0m\u001b[0;31m:\u001b[0m 0\n"
     ]
    },
    {
     "name": "stderr",
     "output_type": "stream",
     "text": [
      "/Users/xiaoqidao/Library/Python/3.9/lib/python/site-packages/IPython/core/interactiveshell.py:3558: UserWarning: To exit: use 'exit', 'quit', or Ctrl-D.\n",
      "  warn(\"To exit: use 'exit', 'quit', or Ctrl-D.\", stacklevel=1)\n"
     ]
    }
   ],
   "source": [
    "import sys\n",
    "from PyQt5.QtWidgets import QApplication, QWidget, QLabel, QLineEdit, QPushButton, QVBoxLayout\n",
    "import csv\n",
    "\n",
    "import re\n",
    "file = open('蛊真人第一卷.txt', mode='r',)\n",
    "# 读取文件，并分割句子\n",
    "keywords = ['“','”']\n",
    "text = ''\n",
    "textlist = []\n",
    "pattern = r'第[\\u4e00-\\u9fa5]+节'\n",
    "for i in file.readlines():\n",
    "    match = re.search(pattern, i)\n",
    "    if match:\n",
    "            textlist.append(text)\n",
    "            text = i.replace('\\u3000','')\n",
    "    for j in i:\n",
    "        if j in keywords :\n",
    "            text += i.replace('\\u3000','')\n",
    "            break\n",
    "\n",
    "class CSVGenerator(QWidget):\n",
    "    def __init__(self):\n",
    "        self.number = 1\n",
    "        super().__init__()\n",
    "        self.initUI()\n",
    "\n",
    "    def initUI(self):\n",
    "        self.setWindowTitle('CSV Generator')\n",
    "\n",
    "        self.system_label = QLabel('System:')\n",
    "        self.system_entry = QLineEdit()\n",
    "        self.system_entry.setText('\\n［提示］\\n你是一个角色信息标注师，角色标注师平常的工作就是对一个小说或者一个片段提取有用的信息对这个角色的信息进行刻画，你的任务很重要必须严格遵守。\\n\\n［任务］\\n1.你需要根据新的内容和已有角色信息，按照下面模板填写（增加）你所获取跟这个角色有关的信息或判断出的可能存在的信息。\\n\\n［任务要求］内容没有提及的地方可以根据内容进行猜测用来确保不会出现有信息显示未提及的情况，并以标识信息（猜测）来注明。一但新的内容提及到了，则去掉猜测内容，填写正确内容。\\n\\n［当前工作］\\n通过不断从客户的内容中修改和完善方源的角色刻画\\n\\n\\n---\\n\\n**角色刻画模板**\\n\\n**1. 角色基本信息：**\\n- **姓名：**\\n- **年龄：**\\n- **性别：**\\n- **外貌特征：**\\n  - 身高：\\n  - 发型：\\n  - 眼睛颜色：\\n  - 其他特征：\\n\\n**2. 个性特征：**\\n- **性格描述：**\\n  - 例如：外向、内向、乐观、悲观等。\\n- **兴趣爱好：**\\n  - 例如：喜欢的活动、爱好的领域等。\\n\\n**3. 言谈模式：**\\n- **词汇选择：**\\n  - 例如：使用特定词汇、行话或术语。\\n- **语法结构：**\\n  - 例如：口头禅、常用的语法结构。\\n- **语速和语调：**\\n  - 例如：说话速度快慢、语调的变化。\\n\\n**4. 行为举止：**\\n- **动作和姿态：**\\n  - 例如：常用的手势、习惯的姿势。\\n- **表情和面部表情：**\\n  - 例如：喜怒哀乐的表情、面部微表情。\\n\\n**5. 情感表达：**\\n- **常见情感状态：**\\n  - 例如：快乐、愤怒、沮丧等。\\n- **情感表达方式：**\\n  - 例如：喜欢微笑、生气时的表现。\\n\\n**6. 典型场景：**\\n- **典型环境：**\\n  - 例如：在家中、工作场所、社交活动中。\\n- **典型反应：**\\n  - 例如：面对压力时的应对方式、与他人互动的方式。\\n\\n**7.本节大纲：**\\n- 列如：针对一个小说写作本节时前期的故事构造和整体的把握，包括人物性格、故事情节、故事梗概、主线副线、主题升华、细节设置、场景设置\\n---\\n\\n你可以根据角色的实际情况，填写每个部分的相关信息，甚至对信息进行补充。这个模板可帮助你系统性地构建一个深度刻画的角色形象。\\n')\n",
    "\n",
    "        self.user_label = QLabel('User:')\n",
    "        self.user_entry = QLineEdit()\n",
    "        self.user_entry.setText(textlist[self.number])\n",
    "\n",
    "        self.assistant_label = QLabel('Assistant:')\n",
    "        self.assistant_entry = QLineEdit()\n",
    "\n",
    "        self.submit_button = QPushButton('Submit')\n",
    "        self.submit_button.clicked.connect(self.on_submit)\n",
    "\n",
    "        layout = QVBoxLayout()\n",
    "        layout.addWidget(self.system_label)\n",
    "        layout.addWidget(self.system_entry)\n",
    "        layout.addWidget(self.user_label)\n",
    "        layout.addWidget(self.user_entry)\n",
    "        layout.addWidget(self.assistant_label)\n",
    "        layout.addWidget(self.assistant_entry)\n",
    "        layout.addWidget(self.submit_button)\n",
    "\n",
    "        self.setLayout(layout)\n",
    "        self.show()\n",
    "\n",
    "    def save_to_csv(self, data):\n",
    "        with open('output.csv', mode='a', newline='') as file:\n",
    "            writer = csv.writer(file)\n",
    "            writer.writerow(data)\n",
    "\n",
    "    def on_submit(self):\n",
    "        system_text = self.system_entry.text()\n",
    "        user_text = self.user_entry.text()\n",
    "        assistant_text = self.assistant_entry.text()\n",
    "        data = [f'<|im_start|>system {system_text}<|im_end|> <|im_start|>user {user_text}<|im_end|> <|im_start|>assistant {assistant_text}<|im_end|>']\n",
    "        self.save_to_csv(data)\n",
    "\n",
    "        self.user_entry.clear()\n",
    "        self.number += 1\n",
    "        print(self.number)\n",
    "        self.user_entry.setText(textlist[self.number])\n",
    "        self.assistant_entry.clear()\n",
    "\n",
    "if __name__ == '__main__':\n",
    "    app = QApplication(sys.argv)\n",
    "    csv_generator = CSVGenerator()\n",
    "    csv_generator.show()\n",
    "    sys.exit(app.exec_())\n"
   ]
  }
 ],
 "metadata": {
  "kernelspec": {
   "display_name": "Python 3",
   "language": "python",
   "name": "python3"
  },
  "language_info": {
   "codemirror_mode": {
    "name": "ipython",
    "version": 3
   },
   "file_extension": ".py",
   "mimetype": "text/x-python",
   "name": "python",
   "nbconvert_exporter": "python",
   "pygments_lexer": "ipython3",
   "version": "3.9.6"
  }
 },
 "nbformat": 4,
 "nbformat_minor": 2
}
